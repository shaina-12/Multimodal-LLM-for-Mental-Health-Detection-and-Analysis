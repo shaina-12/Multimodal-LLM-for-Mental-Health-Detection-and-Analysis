{
  "nbformat": 4,
  "nbformat_minor": 0,
  "metadata": {
    "colab": {
      "provenance": []
    },
    "kernelspec": {
      "name": "python3",
      "display_name": "Python 3"
    },
    "language_info": {
      "name": "python"
    }
  },
  "cells": [
    {
      "cell_type": "code",
      "execution_count": 1,
      "metadata": {
        "id": "X4WnA3g0IVTT"
      },
      "outputs": [],
      "source": [
        "import pandas as pd\n",
        "import os"
      ]
    },
    {
      "cell_type": "code",
      "source": [
        "def getTranscripts(path):\n",
        "  files = os.listdir(path)\n",
        "  transcripts = []\n",
        "  label = []\n",
        "  for i in range(len(files)):\n",
        "    text = open(path+'/'+files[i]).readlines()\n",
        "    transcripts.append(\" \".join(text))\n",
        "    label.append(files[i][0:2])\n",
        "  return files, transcripts, label"
      ],
      "metadata": {
        "id": "A-TOBXGTJTaQ"
      },
      "execution_count": 2,
      "outputs": []
    },
    {
      "cell_type": "code",
      "source": [
        "path1 = '/content/drive/MyDrive/Control_Trimmed_transcript-20240928T182344Z-001/Control_Trimmed_transcript'\n",
        "path2 = '/content/drive/MyDrive/Original_Trimmed_transcript-20240928T182404Z-001/Original_Trimmed_transcript'"
      ],
      "metadata": {
        "id": "xC2_ZZdOJxsF"
      },
      "execution_count": 3,
      "outputs": []
    },
    {
      "cell_type": "code",
      "source": [
        "f1, t1, l1 = getTranscripts(path1)\n",
        "f2, t2, l2 = getTranscripts(path2)"
      ],
      "metadata": {
        "id": "FvehwEhYPB2A"
      },
      "execution_count": 4,
      "outputs": []
    },
    {
      "cell_type": "code",
      "source": [
        "new_l1 = [l1[i][0] for i in range(len(l1))]"
      ],
      "metadata": {
        "id": "sy3jUrKRPNer"
      },
      "execution_count": 5,
      "outputs": []
    },
    {
      "cell_type": "code",
      "source": [
        "dict1 = {'files':f1, 'text': t1, 'label':new_l1}\n",
        "dict2 = {'files':f2, 'text':t2, 'label':l2}\n",
        "\n",
        "df1 = pd.DataFrame.from_dict(dict1)\n",
        "df2 = pd.DataFrame.from_dict(dict2)"
      ],
      "metadata": {
        "id": "hxh6z9mZPjRz"
      },
      "execution_count": 6,
      "outputs": []
    },
    {
      "cell_type": "code",
      "source": [
        "df = pd.concat([df1, df2])\n",
        "df.to_csv('data.csv', index=False)"
      ],
      "metadata": {
        "id": "AHD6mWSHSa3d"
      },
      "execution_count": 7,
      "outputs": []
    },
    {
      "cell_type": "code",
      "source": [
        "df.to_excel('data.xlsx', index=False)"
      ],
      "metadata": {
        "id": "8YR4BoaSUqcX"
      },
      "execution_count": 8,
      "outputs": []
    }
  ]
}